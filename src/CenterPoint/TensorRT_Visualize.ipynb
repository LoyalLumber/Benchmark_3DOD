{
 "cells": [
  {
   "cell_type": "code",
   "execution_count": null,
   "id": "777b8e68",
   "metadata": {},
   "outputs": [],
   "source": [
    "import argparse\n",
    "import copy\n",
    "import json\n",
    "import os\n",
    "import sys\n",
    "\n",
    "try:\n",
    "    import apex\n",
    "except:\n",
    "    print(\"No APEX!\")\n",
    "import numpy as np\n",
    "import torch\n",
    "from torch import nn\n",
    "import yaml\n",
    "from det3d import torchie\n",
    "from det3d.datasets import build_dataloader, build_dataset\n",
    "from det3d.models import build_detector\n",
    "from det3d.torchie import Config\n",
    "from det3d.torchie.apis import (\n",
    "    batch_processor,\n",
    "    build_optimizer,\n",
    "    get_root_logger,\n",
    "    init_dist,\n",
    "    set_random_seed,\n",
    "    train_detector,\n",
    "    example_to_device,\n",
    ")\n",
    "from det3d.torchie.trainer import load_checkpoint\n",
    "import pickle \n",
    "import time \n",
    "from matplotlib import pyplot as plt \n",
    "from det3d.torchie.parallel import collate, collate_kitti\n",
    "from torch.utils.data import DataLoader\n",
    "import matplotlib.cm as cm\n",
    "import subprocess\n",
    "import cv2\n",
    "from tools.demo_utils import visual \n",
    "from collections import defaultdict\n",
    "from det3d.torchie.trainer.utils import all_gather, synchronize\n",
    "from pathlib import PosixPath\n",
    "import glob"
   ]
  },
  {
   "cell_type": "code",
   "execution_count": null,
   "id": "2b4efa9f",
   "metadata": {},
   "outputs": [],
   "source": [
    "def convert_box(info):\n",
    "    boxes =  info[\"gt_boxes\"].astype(np.float32)\n",
    "    names = info[\"gt_names\"]\n",
    "\n",
    "    assert len(boxes) == len(names)\n",
    "\n",
    "    detection = {}\n",
    "\n",
    "    detection['box3d_lidar'] = boxes\n",
    "\n",
    "    # dummy value \n",
    "    detection['label_preds'] = np.zeros(len(boxes)) \n",
    "    detection['scores'] = np.ones(len(boxes))\n",
    "\n",
    "    return detection"
   ]
  },
  {
   "cell_type": "code",
   "execution_count": null,
   "id": "36357bc5",
   "metadata": {},
   "outputs": [],
   "source": [
    "cfg = Config.fromfile('configs/nusc/pp/nusc_centerpoint_pp_02voxel_two_pfn_10sweep_demo_mini.py')\n",
    "\n",
    "model = build_detector(cfg.model, train_cfg=None, test_cfg=cfg.test_cfg)\n",
    "\n",
    "dataset = build_dataset(cfg.data.val)\n",
    "\n",
    "data_loader = DataLoader(\n",
    "    dataset,\n",
    "    batch_size=1,\n",
    "    sampler=None,\n",
    "    shuffle=False,\n",
    "    num_workers=8,\n",
    "    collate_fn=collate_kitti,\n",
    "    pin_memory=False,\n",
    ")\n"
   ]
  },
  {
   "cell_type": "code",
   "execution_count": null,
   "id": "f4fa1407",
   "metadata": {
    "scrolled": true
   },
   "outputs": [],
   "source": [
    "checkpoint = load_checkpoint(model, './latest.pth', map_location=\"cpu\")\n",
    "model.eval()\n",
    "\n",
    "model = model.cuda()\n",
    "\n",
    "gpu_device = torch.device(\"cuda\")\n",
    "cpu_device = torch.device(\"cpu\")\n",
    "points_list = [] \n",
    "gt_annos = [] \n",
    "detections = {}\n",
    "detections_for_draw = []\n",
    "points_list = []\n",
    "token_list = []"
   ]
  },
  {
   "cell_type": "markdown",
   "id": "fcb6bdc9",
   "metadata": {},
   "source": [
    "# Inference on nuScenes Mini dataset"
   ]
  },
  {
   "cell_type": "code",
   "execution_count": null,
   "id": "d9352ceb",
   "metadata": {},
   "outputs": [],
   "source": [
    "for i, data_batch in enumerate(data_loader):\n",
    "    token = data_batch['metadata'][0]['token']\n",
    "    token_list.append(token)\n",
    "    \n",
    "    # save points data for tensorrt\n",
    "    data_batch[\"points\"].cpu().numpy()[:,1:].astype(np.float32).tofile( \\\n",
    "                      \"./tensorrt/data/centerpoint/points/%s.bin\"%token)\n",
    "    \n",
    "    # points_list for visulize\n",
    "    points = data_batch['points'][:, 1:4].cpu().numpy()\n",
    "    points_list.append(points.T)\n",
    "    with torch.no_grad():\n",
    "        outputs = batch_processor(\n",
    "            model, data_batch, train_mode=False, local_rank=0\n",
    "        )\n",
    "    info = dataset._nusc_infos[i]\n",
    "    gt_annos.append(convert_box(info))\n",
    "    \n",
    "    for output in outputs:\n",
    "        token = output[\"metadata\"][\"token\"]\n",
    "        for k, v in output.items():\n",
    "            if k not in [\n",
    "                \"metadata\",\n",
    "            ]:\n",
    "                output[k] = v.to(cpu_device)\n",
    "        detections_for_draw.append(output)\n",
    "        detections.update(\n",
    "            {token: output,}\n",
    "        )\n",
    "\n",
    "all_predictions = all_gather(detections)\n",
    "\n",
    "predictions = {}\n",
    "for p in all_predictions:\n",
    "    predictions.update(p)\n",
    "\n",
    "result_dict, _ = dataset.evaluation(copy.deepcopy(predictions), output_dir=\"./\", testset=False)\n",
    "\n",
    "if result_dict is not None:\n",
    "    for k, v in result_dict[\"results\"].items():\n",
    "        print(f\"Evaluation {k}: {v}\")"
   ]
  },
  {
   "cell_type": "markdown",
   "id": "c463c164",
   "metadata": {},
   "source": [
    "# Visualize Pytorch Results"
   ]
  },
  {
   "cell_type": "code",
   "execution_count": null,
   "id": "90a53fc4",
   "metadata": {
    "scrolled": true
   },
   "outputs": [],
   "source": [
    "print('Done model inference. Please wait a minute, the matplotlib is a little slow...')\n",
    "\n",
    "vis_num = 10\n",
    "draw_num = min(vis_num, len(points_list))\n",
    "for i in range(draw_num):\n",
    "    visual(points_list[i], gt_annos[i], detections_for_draw[i], i, save_path=\"demo/torch_demo\")\n",
    "    print(\"Rendered Image {}\".format(i))"
   ]
  },
  {
   "cell_type": "markdown",
   "id": "02335046",
   "metadata": {},
   "source": [
    "# Evaluete TensorRT Result\n",
    "1. copy the ./tensorrt/data/centerpoint/points to <TensorRT root directory\\>/data/centerpoint\n",
    "2. run the <TensorRT root directory\\>/bin/centerpoint to get the tensorrt outputs.\n",
    "3. copy the <TensorRT root directory\\>/data/centerpoint back the CenterPoint/tensorrt/data\n",
    "4. run the following python code to do evaluation and visualiza tensorrt result"
   ]
  },
  {
   "cell_type": "code",
   "execution_count": null,
   "id": "2159f61c",
   "metadata": {},
   "outputs": [],
   "source": [
    "def read_trt_result(path):\n",
    "    token = path.split(\"/\")[-1].split(\".\")[0]\n",
    "    trt_pred = {} \n",
    "    with open(path) as f:\n",
    "        trt_res = f.readlines()\n",
    "\n",
    "    boxs = []\n",
    "    box3d = []\n",
    "    score = []\n",
    "    cls = []\n",
    "    for line in trt_res:\n",
    "        box3d += [np.array([float(it) for it in line.strip().split(\" \")[:9]])]\n",
    "        score += [np.array([float(line.strip().split(\" \")[-2])])]\n",
    "        cls += [np.array([int(line.strip().split(\" \")[-1])])]\n",
    "\n",
    "    trt_pred[\"box3d_lidar\"] = torch.from_numpy(np.array(box3d))\n",
    "    trt_pred[\"scores\"] = torch.from_numpy(np.array(score))\n",
    "    trt_pred[\"label_preds\"] = torch.from_numpy(np.array(cls,np.int32))\n",
    "    trt_pred[\"metadata\"] = {}\n",
    "\n",
    "    trt_pred[\"metadata\"][\"num_point_features\"] = 5\n",
    "    trt_pred[\"metadata\"][\"token\"] = token\n",
    "    \n",
    "    return trt_pred, token"
   ]
  },
  {
   "cell_type": "code",
   "execution_count": null,
   "id": "0d7e3e7a",
   "metadata": {},
   "outputs": [],
   "source": [
    "points_dict = {}\n",
    "points_list = []\n",
    "gt_annos_dict =  {}\n",
    "for i, data_batch in enumerate(data_loader):\n",
    "    token = data_batch['metadata'][0]['token']\n",
    "    points = data_batch['points'][:, 1:4].cpu().numpy()\n",
    "    points_dict[token] = points.T\n",
    "    \n",
    "    info = dataset._nusc_infos[i]\n",
    "    gt_annos_dict[token] = convert_box(info)"
   ]
  },
  {
   "cell_type": "code",
   "execution_count": null,
   "id": "a3fd0d56",
   "metadata": {},
   "outputs": [],
   "source": []
  },
  {
   "cell_type": "code",
   "execution_count": null,
   "id": "84f206d1",
   "metadata": {
    "scrolled": false
   },
   "outputs": [],
   "source": [
    "trt_pred = {}\n",
    "detections = {}\n",
    "detections_for_draw = []\n",
    "gt_annos = []\n",
    "res_path_list = glob.glob(\"./tensorrt/data/centerpoint/results/*.txt\")\n",
    "output_dict = {}\n",
    "\n",
    "for path in res_path_list:\n",
    "    output, token = read_trt_result(path)\n",
    "    output_dict[token] = output\n",
    "\n",
    "for token in token_list:    \n",
    "    points_list.append(points_dict[token])\n",
    "    gt_annos.append(gt_annos_dict[token])\n",
    "    output = output_dict[token]\n",
    "    for k, v in output.items():\n",
    "        if k not in [\n",
    "            \"metadata\",\n",
    "        ]:\n",
    "            output[k] = v\n",
    "    detections_for_draw.append(output)\n",
    "    detections.update(\n",
    "        {token: output,}\n",
    "    )\n",
    "all_predictions = all_gather(detections)\n",
    "\n",
    "predictions = {}\n",
    "for p in all_predictions:\n",
    "    predictions.update(p)\n",
    "\n",
    "result_dict, _ = dataset.evaluation(copy.deepcopy(predictions), output_dir=\"./\", testset=False)\n",
    "\n",
    "if result_dict is not None:\n",
    "    for k, v in result_dict[\"results\"].items():\n",
    "        print(f\"Evaluation {k}: {v}\")"
   ]
  },
  {
   "cell_type": "code",
   "execution_count": null,
   "id": "11c99909",
   "metadata": {},
   "outputs": [],
   "source": []
  },
  {
   "cell_type": "markdown",
   "id": "bf9ae876",
   "metadata": {},
   "source": [
    "# Visualize TensorRT Result"
   ]
  },
  {
   "cell_type": "code",
   "execution_count": null,
   "id": "6707c384",
   "metadata": {},
   "outputs": [],
   "source": [
    "print('Done model inference. Please wait a minute, the matplotlib is a little slow...')\n",
    "vis_num = 10\n",
    "draw_num = min(vis_num, len(points_list))\n",
    "for i in range(draw_num):\n",
    "    visual(points_list[i], gt_annos[i], detections_for_draw[i], i, save_path=\"demo/trt_demo\")\n",
    "    print(\"Rendered Image {}\".format(i))"
   ]
  },
  {
   "cell_type": "code",
   "execution_count": null,
   "id": "c6d00dd2",
   "metadata": {},
   "outputs": [],
   "source": []
  },
  {
   "cell_type": "code",
   "execution_count": null,
   "id": "b080862c",
   "metadata": {},
   "outputs": [],
   "source": []
  },
  {
   "cell_type": "code",
   "execution_count": null,
   "id": "80b7310d",
   "metadata": {
    "scrolled": true
   },
   "outputs": [],
   "source": []
  },
  {
   "cell_type": "code",
   "execution_count": null,
   "id": "c77ad5c6",
   "metadata": {
    "scrolled": true
   },
   "outputs": [],
   "source": []
  },
  {
   "cell_type": "code",
   "execution_count": null,
   "id": "cea0ec16",
   "metadata": {},
   "outputs": [],
   "source": []
  }
 ],
 "metadata": {
  "kernelspec": {
   "display_name": "Python 3",
   "language": "python",
   "name": "python3"
  },
  "language_info": {
   "codemirror_mode": {
    "name": "ipython",
    "version": 3
   },
   "file_extension": ".py",
   "mimetype": "text/x-python",
   "name": "python",
   "nbconvert_exporter": "python",
   "pygments_lexer": "ipython3",
   "version": "3.6.9"
  }
 },
 "nbformat": 4,
 "nbformat_minor": 5
}
